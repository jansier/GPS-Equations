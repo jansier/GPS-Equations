{
 "cells": [
  {
   "cell_type": "code",
   "execution_count": 1,
   "metadata": {},
   "outputs": [
    {
     "data": {
      "text/plain": [
       "bigTest"
      ]
     },
     "execution_count": 1,
     "metadata": {},
     "output_type": "execute_result"
    }
   ],
   "source": [
    "# Metoda Newtona do rozwiązywania układów równań \n",
    "# Opisujących pozycję według techonologii GPS\n",
    "\n",
    "include(\"program.jl\")"
   ]
  },
  {
   "cell_type": "code",
   "execution_count": 26,
   "metadata": {
    "scrolled": true
   },
   "outputs": [
    {
     "data": {
      "text/plain": [
       "4-element Array{Float64,1}:\n",
       " 3.0        \n",
       " 2.0        \n",
       " 5.54332e-16\n",
       " 1.0        "
      ]
     },
     "execution_count": 26,
     "metadata": {},
     "output_type": "execute_result"
    }
   ],
   "source": [
    "# Przykład użycia\n",
    "# Odbiorca znajduje się w punkcie (3,2,0) układu współrzędnych\n",
    "# Satelity umieszczamy w punktach (2,1,1), (1,4,2), (4,1,-1), (6,5,3)\n",
    "# Dla ułatwienia obseerwacji przyjmujemy prędkość światła: sqrt(3) (przekątna sześcianu o boku 1)\n",
    "# Czasy dotarcia sygnału to odpowiednio: 1,2,1,3.\n",
    "# Ustalmy że zegar rozsynchronizowany jest o 1 sekundę więc obliczone czasy to: 2,3,2,4\n",
    "\n",
    "# Macierz równań [a,b,c,t]\n",
    "mc = Array{Float64, 2}(4,4)\n",
    "mc[1,1:4] = [2,1,1,2]\n",
    "mc[2,1:4] = [1,4,2,3]\n",
    "mc[3,1:4] = [4,1,-1,2]\n",
    "mc[4,1:4] = [6,5,3,4]\n",
    "\n",
    "# Wektor początkowy [x,y,z,T]\n",
    "v = [1,1,1,1]\n",
    "\n",
    "# Funkcja newton przyjmuje macierz opisującą równania,\n",
    "# Wektor początkowy, opcjonalnie: prędkość światła\n",
    "# Wyświetla kolejne przybliżenia wektora v,\n",
    "# który zbiega do pierwiastka tych równań.\n",
    "newton(mc, v, sqrt(3))"
   ]
  },
  {
   "cell_type": "code",
   "execution_count": 27,
   "metadata": {},
   "outputs": [
    {
     "data": {
      "text/plain": [
       "4-element Array{Float64,1}:\n",
       " 4.5\n",
       " 6.5\n",
       " 1.5\n",
       " 5.5"
      ]
     },
     "execution_count": 27,
     "metadata": {},
     "output_type": "execute_result"
    }
   ],
   "source": [
    "# Uwaga\n",
    "# Istnieją dwa rozwiązania tego układu równań\n",
    "# Za pomocą metody Newtona możemy znaleźć je oba\n",
    "# W zależności jaki wektor startowy przyjmiemy\n",
    "v = [1.,2.,3.,10.]\n",
    "newton(mc, v, sqrt(3))\n"
   ]
  },
  {
   "cell_type": "code",
   "execution_count": 39,
   "metadata": {},
   "outputs": [
    {
     "data": {
      "text/plain": [
       "4-element Array{Float64,1}:\n",
       " -5.12227e-9 \n",
       " -4.65661e-9 \n",
       " -4.19095e-9 \n",
       "  1.11022e-16"
      ]
     },
     "execution_count": 39,
     "metadata": {},
     "output_type": "execute_result"
    }
   ],
   "source": [
    "# Test dla rzeczywistych danych\n",
    "s = surfaceCords(2505000, 5210000) # Wybrany punkt na Ziemi\n",
    "# Różnica zegarów\n",
    "t = 1\n",
    "# Macierz opisująca równania\n",
    "mc = generateMatrix(p, 1300000, 20000000, 7030000, 13200000, 11500000, 13700000, 18800000, 1400000, t)\n",
    "\n",
    "newtonRes = newton(mc)\n",
    "[s[1], s[2], s[3], t] - newtonRes"
   ]
  },
  {
   "cell_type": "code",
   "execution_count": 43,
   "metadata": {},
   "outputs": [
    {
     "data": {
      "text/plain": [
       "4-element Array{Float64,1}:\n",
       " -1.49012e-7 \n",
       " -5.06639e-7 \n",
       "  3.03611e-7 \n",
       " -2.22045e-16"
      ]
     },
     "execution_count": 43,
     "metadata": {},
     "output_type": "execute_result"
    }
   ],
   "source": [
    "algebraicRes = algebraic(mc)\n",
    "# Szukany wynik\n",
    "[s[1], s[2], s[3], t] - algebraicRes[1]"
   ]
  },
  {
   "cell_type": "code",
   "execution_count": 42,
   "metadata": {},
   "outputs": [
    {
     "data": {
      "text/plain": [
       "4-element Array{Float64,1}:\n",
       "  7.8114e6 \n",
       "  1.57867e7\n",
       "  8.16743e6\n",
       " -0.157086 "
      ]
     },
     "execution_count": 42,
     "metadata": {},
     "output_type": "execute_result"
    }
   ],
   "source": [
    "# Nieinteresujący nas wynik\n",
    "[s[1], s[2], s[3], t] - algebraicRes[2]"
   ]
  },
  {
   "cell_type": "code",
   "execution_count": 53,
   "metadata": {},
   "outputs": [
    {
     "name": "stdout",
     "output_type": "stream",
     "text": [
      "Maksymalny błąd metody newtona: 1.71e-03\n",
      "Maksymalny błąd podejścia algebraicznego: 8.85e-03\n"
     ]
    }
   ],
   "source": [
    "# Maksymalne błędy uzyskane na 10000 losowych zestawów danych\n",
    "\n",
    "(maxNewtonError, maxAlgebraicError) = bigTest(10000)\n",
    "@printf(\"Maksymalny błąd metody newtona: %.2e\\n\", maxNewtonError)\n",
    "@printf(\"Maksymalny błąd podejścia algebraicznego: %.2e\\n\", maxAlgebraicError)"
   ]
  }
 ],
 "metadata": {
  "kernelspec": {
   "display_name": "Julia 0.6.0",
   "language": "julia",
   "name": "julia-0.6"
  },
  "language_info": {
   "file_extension": ".jl",
   "mimetype": "application/julia",
   "name": "julia",
   "version": "0.6.0"
  }
 },
 "nbformat": 4,
 "nbformat_minor": 2
}
